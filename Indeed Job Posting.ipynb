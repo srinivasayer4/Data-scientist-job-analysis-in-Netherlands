{
 "cells": [
  {
   "cell_type": "markdown",
   "metadata": {},
   "source": [
    "# Data Scientist Jobs Analysis in Netherlands\n",
    "## 1. Introduction\n",
    "In this project I have collected all the jobs that were posted on Indeed.nl by scraping the content of their website."
   ]
  },
  {
   "cell_type": "code",
   "execution_count": 1,
   "metadata": {},
   "outputs": [],
   "source": [
    "import requests\n",
    "import os\n",
    "from bs4 import BeautifulSoup\n",
    "import pandas as pd\n",
    "import numpy as np\n",
    "import matplotlib.pyplot as plt\n",
    "import re\n",
    "import time\n",
    "import datetime\n",
    "import json\n",
    "import wptools # Wikipedia's API tool\n",
    "import seaborn as sns"
   ]
  },
  {
   "cell_type": "markdown",
   "metadata": {},
   "source": [
    "## 2. Data Gathering\n",
    "The data is gathered by using the BeautifulSoup library and scraping the data of Indeed.nl. To get information about each company similar task is performed by scraping the data from Indeed.com."
   ]
  },
  {
   "cell_type": "markdown",
   "metadata": {},
   "source": [
    "### 2.1 Data Gathering: extracting the job details"
   ]
  },
  {
   "cell_type": "code",
   "execution_count": 120,
   "metadata": {},
   "outputs": [
    {
     "data": {
      "text/plain": [
       "<Response [200]>"
      ]
     },
     "execution_count": 120,
     "metadata": {},
     "output_type": "execute_result"
    }
   ],
   "source": [
    "# URL for indeed website\n",
    "URL= 'https://www.indeed.com/jobs?q=data+scientist&start=0'\n",
    "response= requests.get(URL)\n",
    "response"
   ]
  },
  {
   "cell_type": "code",
   "execution_count": 122,
   "metadata": {},
   "outputs": [],
   "source": [
    "# Beautiful soup to extract the HTML content\n",
    "soup= BeautifulSoup(response.content, 'html.parser')"
   ]
  },
  {
   "cell_type": "code",
   "execution_count": 20,
   "metadata": {},
   "outputs": [],
   "source": [
    "# Function for returning the title of the job\n",
    "def job_title_func(x):\n",
    "    \"\"\"Return the job title in the soup element\n",
    "    Input: job in the page to be scraped\n",
    "    Output: Job Title\"\"\"\n",
    "    try:\n",
    "        my_return = re.findall('title=\"[\\w\\W]+\"',str(soup.find_all('a',class_=\"jobtitle turnstileLink\")[x]))[0][7:-1]\n",
    "    except:\n",
    "        my_return= None\n",
    "        \n",
    "    return my_return"
   ]
  },
  {
   "cell_type": "code",
   "execution_count": 21,
   "metadata": {},
   "outputs": [],
   "source": [
    "# Comapny name\n",
    "def company_name_func(x):\n",
    "    \"\"\"Return the company name in the soup element\n",
    "    Input: job in the page to be scraped\n",
    "    Output: Company name\"\"\"\n",
    "    try:\n",
    "        my_return = soup.find_all('span', class_='company')[x].find('a').contents[0][1:]\n",
    "    except:\n",
    "        try:\n",
    "            my_return= soup.find_all('span', class_='company')[x].contents[0][1:]\n",
    "        except:\n",
    "            my_return= None\n",
    "        \n",
    "    return my_return"
   ]
  },
  {
   "cell_type": "code",
   "execution_count": 22,
   "metadata": {},
   "outputs": [],
   "source": [
    "# Job location function\n",
    "def location_func(x):\n",
    "    \"\"\"Return the job location in the soup element\n",
    "    Input: job in the page to be scraped\n",
    "    Output: Job Location\"\"\"\n",
    "    try:\n",
    "        my_return = soup.find_all('span',class_=\"location accessible-contrast-color-location\" )[x].contents[0]\n",
    "    except:\n",
    "        my_return= None\n",
    "        \n",
    "    return my_return"
   ]
  },
  {
   "cell_type": "code",
   "execution_count": 23,
   "metadata": {},
   "outputs": [],
   "source": [
    "# Job date\n",
    "def date_func(x):\n",
    "    \"\"\"Return the job date in the soup element\n",
    "    Input: job in the page to be scraped\n",
    "    Output: number of days ago job was posted\"\"\"\n",
    "    try:\n",
    "        my_return = soup.find_all('span', class_='date')[x].contents[0]\n",
    "    except:\n",
    "        my_return= None\n",
    "        \n",
    "    return my_return"
   ]
  },
  {
   "cell_type": "code",
   "execution_count": 24,
   "metadata": {},
   "outputs": [],
   "source": [
    "# Company rating function\n",
    "def rating_func(x):\n",
    "    \"\"\"Return the company rating in the soup element\n",
    "    Input: job in the page to be scraped\n",
    "    Output: company rating\"\"\"\n",
    "    try:\n",
    "        my_return = float(soup.find_all('span', class_='ratingsContent')[x].contents[0][1:].replace(',','.'))\n",
    "    except:\n",
    "        my_return= None\n",
    "        \n",
    "    return my_return"
   ]
  },
  {
   "cell_type": "markdown",
   "metadata": {},
   "source": [
    "Scraping the website for all Data Scientists opening in Netherlands."
   ]
  },
  {
   "cell_type": "code",
   "execution_count": 289,
   "metadata": {},
   "outputs": [
    {
     "name": "stdout",
     "output_type": "stream",
     "text": [
      "Running page  1.0\n",
      "Running page  2.0\n",
      "Running page  3.0\n",
      "Running page  4.0\n",
      "Running page  5.0\n",
      "Running page  6.0\n",
      "Running page  7.0\n",
      "Running page  8.0\n",
      "Running page  9.0\n",
      "Running page  10.0\n",
      "Running page  11.0\n",
      "Running page  12.0\n",
      "Running page  13.0\n",
      "Running page  14.0\n",
      "Running page  15.0\n",
      "Running page  16.0\n",
      "Running page  17.0\n",
      "Running page  18.0\n",
      "Running page  19.0\n",
      "Running page  20.0\n",
      "Running page  21.0\n",
      "Running page  22.0\n",
      "Running page  23.0\n",
      "Running page  24.0\n",
      "Running page  25.0\n",
      "Running page  26.0\n",
      "Running page  27.0\n",
      "Running page  28.0\n",
      "Running page  29.0\n",
      "Running page  30.0\n",
      "Running page  31.0\n",
      "Running page  32.0\n",
      "Running page  33.0\n",
      "Running page  34.0\n",
      "Running page  35.0\n",
      "Running page  36.0\n",
      "Running page  37.0\n",
      "Running page  38.0\n",
      "Running page  39.0\n",
      "Running page  40.0\n",
      "Running page  41.0\n",
      "Running page  42.0\n",
      "Running page  43.0\n",
      "Running page  44.0\n",
      "Running page  45.0\n",
      "Running page  46.0\n",
      "Running page  47.0\n",
      "Running page  48.0\n",
      "Running page  49.0\n",
      "Running page  50.0\n",
      "Running page  51.0\n",
      "Running page  52.0\n",
      "Running page  53.0\n",
      "Running page  54.0\n",
      "Running page  55.0\n",
      "Running page  56.0\n",
      "Running page  57.0\n",
      "Running page  58.0\n",
      "Running page  59.0\n",
      "Running page  60.0\n",
      "Running page  61.0\n",
      "Running page  62.0\n",
      "Running page  63.0\n",
      "Running page  64.0\n",
      "Running page  65.0\n",
      "Running page  66.0\n",
      "Running page  67.0\n",
      "Running page  68.0\n",
      "Running page  69.0\n",
      "Running page  70.0\n",
      "Running page  71.0\n",
      "Running page  72.0\n",
      "Running page  73.0\n",
      "Running page  74.0\n",
      "Running page  75.0\n",
      "Running page  76.0\n"
     ]
    },
    {
     "data": {
      "text/plain": [
       "(1230, 5)"
      ]
     },
     "execution_count": 289,
     "metadata": {},
     "output_type": "execute_result"
    }
   ],
   "source": [
    "# Initializing lists to append from the search results\n",
    "job_title= []\n",
    "company_name= []\n",
    "location=[]\n",
    "job_date= []\n",
    "company_rating=[]\n",
    "\n",
    "#Making a loop to scroll through all the pages at Indeed\n",
    "for i in range(0,751,15):\n",
    "    URL= 'https://www.indeed.nl/jobs?q=Data+Scientist&l=netherlands&start='+str(i)  # Indeed Netherlands URL\n",
    "    \n",
    "    response= requests.get(URL)   \n",
    "    soup= BeautifulSoup(response.content, 'html.parser') # Using beautiful soup to extract the html elements\n",
    "    \n",
    "    page_len= len(soup.find_all('span', class_='company')) # Finding the number of jobs in a page\n",
    "    \n",
    "    for x in range(page_len):\n",
    "        # Extracting different information for each job\n",
    "        job_title.append(job_title_func(x))   \n",
    "\n",
    "        company_name.append(company_name_func(x))\n",
    "\n",
    "        location.append(location_func(x))\n",
    "        job_date.append(date_func(x))\n",
    "        company_rating.append(rating_func(x))\n",
    "    \n",
    "    # Pausing the next page loading\n",
    "    time.sleep(np.random.randint(10,25))\n",
    "    print('Running page ',i/10+1)\n",
    "\n",
    "# Making a dataframe with the above lists\n",
    "df= pd.DataFrame({'job_title':job_title,'company_name':company_name,'location':location,'job_date':job_date, \\\n",
    "                 'company_rating':company_rating})\n",
    "\n",
    "# Exporting the dataframe to a csv file\n",
    "df.to_csv(r'C:\\Users\\srini\\Projects\\LinkedIn\\Indeed.csv',)\n",
    "df.shape"
   ]
  },
  {
   "cell_type": "code",
   "execution_count": 159,
   "metadata": {},
   "outputs": [
    {
     "data": {
      "text/html": [
       "<div>\n",
       "<style scoped>\n",
       "    .dataframe tbody tr th:only-of-type {\n",
       "        vertical-align: middle;\n",
       "    }\n",
       "\n",
       "    .dataframe tbody tr th {\n",
       "        vertical-align: top;\n",
       "    }\n",
       "\n",
       "    .dataframe thead th {\n",
       "        text-align: right;\n",
       "    }\n",
       "</style>\n",
       "<table border=\"1\" class=\"dataframe\">\n",
       "  <thead>\n",
       "    <tr style=\"text-align: right;\">\n",
       "      <th></th>\n",
       "      <th>job_title</th>\n",
       "      <th>company_name</th>\n",
       "      <th>location</th>\n",
       "      <th>job_date</th>\n",
       "      <th>company_rating</th>\n",
       "    </tr>\n",
       "  </thead>\n",
       "  <tbody>\n",
       "    <tr>\n",
       "      <td>0</td>\n",
       "      <td>Senior Data Scientist</td>\n",
       "      <td>ABN AMRO Bank</td>\n",
       "      <td>Amsterdam</td>\n",
       "      <td>Vandaag</td>\n",
       "      <td>4.1</td>\n",
       "    </tr>\n",
       "  </tbody>\n",
       "</table>\n",
       "</div>"
      ],
      "text/plain": [
       "               job_title   company_name   location job_date  company_rating\n",
       "0  Senior Data Scientist  ABN AMRO Bank  Amsterdam  Vandaag             4.1"
      ]
     },
     "execution_count": 159,
     "metadata": {},
     "output_type": "execute_result"
    }
   ],
   "source": [
    "# importing the data from the csv file\n",
    "df= pd.read_csv(r'C:\\Users\\srini\\Projects\\LinkedIn\\Indeed.csv')\n",
    "df.drop(columns='Unnamed: 0', inplace= True) # for dropping the index column\n",
    "df.head(1)"
   ]
  },
  {
   "cell_type": "markdown",
   "metadata": {},
   "source": [
    "### 2.2 Data Gathering for company information\n",
    "To gather information about the companies like Headquarter location, industry domain etc we will scrap that data from Indeed's webpage."
   ]
  },
  {
   "cell_type": "code",
   "execution_count": 97,
   "metadata": {},
   "outputs": [],
   "source": [
    "# creating a function to extract company info from Indeed's soup element\n",
    "def company_info_indeed(soup):\n",
    "    \"\"\"Returns the information about the industry, HeadQuarter, employee number and revenue\n",
    "    for each company\n",
    "    Input: soup element\n",
    "    output: industry, HeadQuarter, employee number and revenue\"\"\"\n",
    "    try:\n",
    "        industry= soup.find_all('div', class_=\"cmp-AboutMetadata-itemCotent\")[2].find('a').contents[0]\n",
    "    except:\n",
    "        industry= None\n",
    "    try:\n",
    "        hq= soup.find_all('div', class_=\"cmp-AboutMetadata-itemCotent\")[0].contents[0]\n",
    "    except:\n",
    "        hq= None\n",
    "    try:\n",
    "        employee = soup.find_all('div', class_=\"cmp-AboutMetadata-itemCotent\")[1].contents[0]\n",
    "    except:\n",
    "        employee= None\n",
    "    try:\n",
    "        revenue= soup.find_all('div', class_=\"cmp-AboutMetadata-itemCotent\")[3].contents[0]\n",
    "    except:\n",
    "        revenue= None\n",
    "    return industry, hq,employee, revenue"
   ]
  },
  {
   "cell_type": "code",
   "execution_count": 110,
   "metadata": {},
   "outputs": [
    {
     "data": {
      "text/plain": [
       "752"
      ]
     },
     "execution_count": 110,
     "metadata": {},
     "output_type": "execute_result"
    }
   ],
   "source": [
    "# finding all the company names that posted more than 1 job\n",
    "company_name_more2= df.company_name.value_counts()[df.company_name.value_counts()>1].index\n",
    "\n",
    "df.company_name.apply(lambda x: x in company_name_more2 ).sum()"
   ]
  },
  {
   "cell_type": "code",
   "execution_count": 116,
   "metadata": {},
   "outputs": [
    {
     "name": "stdout",
     "output_type": "stream",
     "text": [
      "Running page:  1\n",
      "Running page:  2\n",
      "Running page:  3\n",
      "Running page:  4\n",
      "Running page:  5\n",
      "Running page:  6\n",
      "Running page:  7\n",
      "Running page:  8\n",
      "Running page:  9\n",
      "Running page:  10\n",
      "Running page:  11\n",
      "Running page:  12\n",
      "Running page:  13\n",
      "Running page:  14\n",
      "Running page:  15\n",
      "Running page:  16\n",
      "Running page:  17\n",
      "Running page:  18\n",
      "Running page:  19\n",
      "Running page:  20\n",
      "Running page:  21\n",
      "Running page:  22\n",
      "Running page:  23\n",
      "Running page:  24\n",
      "Running page:  25\n",
      "Running page:  26\n",
      "Running page:  27\n",
      "Running page:  28\n",
      "Running page:  29\n",
      "Running page:  30\n",
      "Running page:  31\n",
      "Running page:  32\n",
      "Running page:  33\n",
      "Running page:  34\n",
      "Running page:  35\n",
      "Running page:  36\n",
      "Running page:  37\n",
      "Running page:  38\n",
      "Running page:  39\n",
      "Running page:  40\n",
      "Running page:  41\n",
      "Running page:  42\n",
      "Running page:  43\n",
      "Running page:  44\n",
      "Running page:  45\n",
      "Running page:  46\n",
      "Running page:  47\n",
      "Running page:  48\n",
      "Running page:  49\n",
      "Running page:  50\n",
      "Running page:  51\n",
      "Running page:  52\n",
      "Running page:  53\n",
      "Running page:  54\n",
      "Running page:  55\n",
      "Running page:  56\n",
      "Running page:  57\n",
      "Running page:  58\n",
      "Running page:  59\n",
      "Running page:  60\n",
      "Running page:  61\n",
      "Running page:  62\n",
      "Running page:  63\n",
      "Running page:  64\n",
      "Running page:  65\n",
      "Running page:  66\n",
      "Running page:  67\n",
      "Running page:  68\n",
      "Running page:  69\n",
      "Running page:  70\n",
      "Running page:  71\n",
      "Running page:  72\n",
      "Running page:  73\n",
      "Running page:  74\n",
      "Running page:  75\n",
      "Running page:  76\n",
      "Running page:  77\n",
      "Running page:  78\n",
      "Running page:  79\n",
      "Running page:  80\n",
      "Running page:  81\n",
      "Running page:  82\n",
      "Running page:  83\n",
      "Running page:  84\n",
      "Running page:  85\n",
      "Running page:  86\n",
      "Running page:  87\n",
      "Running page:  88\n",
      "Running page:  89\n",
      "Running page:  90\n",
      "Running page:  91\n",
      "Running page:  92\n",
      "Running page:  93\n",
      "Running page:  94\n",
      "Running page:  95\n",
      "Running page:  96\n",
      "Running page:  97\n",
      "Running page:  98\n",
      "Running page:  99\n",
      "Running page:  100\n",
      "Running page:  101\n",
      "Running page:  102\n",
      "Running page:  103\n",
      "Running page:  104\n",
      "Running page:  105\n",
      "Running page:  106\n",
      "Running page:  107\n",
      "Running page:  108\n",
      "Running page:  109\n",
      "Running page:  110\n",
      "Running page:  111\n",
      "Running page:  112\n",
      "Running page:  113\n",
      "Running page:  114\n",
      "Running page:  115\n",
      "Running page:  116\n",
      "Running page:  117\n",
      "Running page:  118\n",
      "Running page:  119\n",
      "Running page:  120\n",
      "Running page:  121\n",
      "Running page:  122\n",
      "Running page:  123\n",
      "Running page:  124\n",
      "Running page:  125\n",
      "Running page:  126\n",
      "Running page:  127\n",
      "Running page:  128\n",
      "Running page:  129\n",
      "Running page:  130\n",
      "Running page:  131\n",
      "Running page:  132\n",
      "Running page:  133\n",
      "Running page:  134\n",
      "Running page:  135\n",
      "Running page:  136\n",
      "Running page:  137\n",
      "Running page:  138\n",
      "Running page:  139\n",
      "Running page:  140\n",
      "Running page:  141\n",
      "Running page:  142\n",
      "Running page:  143\n",
      "Running page:  144\n",
      "Running page:  145\n",
      "Running page:  146\n",
      "Running page:  147\n",
      "Running page:  148\n",
      "Running page:  149\n",
      "Running page:  150\n",
      "Running page:  151\n",
      "Running page:  152\n",
      "Running page:  153\n",
      "Running page:  154\n",
      "Running page:  155\n",
      "Running page:  156\n",
      "Running page:  157\n",
      "Running page:  158\n",
      "Running page:  159\n",
      "Running page:  160\n",
      "Running page:  161\n",
      "Running page:  162\n",
      "Running page:  163\n",
      "Running page:  164\n",
      "Running page:  165\n",
      "Running page:  166\n",
      "Running page:  167\n",
      "Running page:  168\n",
      "Running page:  169\n",
      "Running page:  170\n",
      "Running page:  171\n",
      "Running page:  172\n",
      "Running page:  173\n",
      "Running page:  174\n"
     ]
    },
    {
     "data": {
      "text/plain": [
       "(174, 5)"
      ]
     },
     "execution_count": 116,
     "metadata": {},
     "output_type": "execute_result"
    }
   ],
   "source": [
    "# Scraping the information from Indeed's URL\n",
    "industry_list=[]\n",
    "hq_list= []\n",
    "employee_list= []\n",
    "revenue_list= []\n",
    "company_name_list= []\n",
    "count=0\n",
    "\n",
    "for x in company_name_more2:\n",
    "    count+=1\n",
    "    print('Running page: ',count)\n",
    "    url_company= 'https://www.indeed.com/cmp/'+ x.lower().replace(' ','-') # URL for the indeed company page\n",
    "    \n",
    "    try:\n",
    "        response= requests.get(url_company)\n",
    "        soup= BeautifulSoup(response.content)\n",
    "        \n",
    "    except:\n",
    "        continue\n",
    "    \n",
    "    industry, hq,employee, revenue = company_info_indeed(soup)\n",
    "    \n",
    "    company_name_list.append(x)\n",
    "    industry_list.append(industry)\n",
    "    hq_list.append(hq)\n",
    "    employee_list.append(employee)\n",
    "    revenue_list.append(revenue)\n",
    "    \n",
    "    time.sleep(np.random.randint(5,15))\n",
    "    \n",
    "    \n",
    "company_info= pd.DataFrame({'company_name':company_name_list, 'industry':industry_list,'hq':hq_list,\\\n",
    "                            'employee_num':employee_list,'revenue':revenue_list})\n",
    "company_info.shape"
   ]
  },
  {
   "cell_type": "code",
   "execution_count": 118,
   "metadata": {},
   "outputs": [],
   "source": [
    "# Exporting the company info data to a csv file\n",
    "company_info.to_csv(r'C:\\Users\\srini\\Projects\\LinkedIn\\Company_info2.csv', index= False)"
   ]
  },
  {
   "cell_type": "code",
   "execution_count": 124,
   "metadata": {},
   "outputs": [
    {
     "data": {
      "text/html": [
       "<div>\n",
       "<style scoped>\n",
       "    .dataframe tbody tr th:only-of-type {\n",
       "        vertical-align: middle;\n",
       "    }\n",
       "\n",
       "    .dataframe tbody tr th {\n",
       "        vertical-align: top;\n",
       "    }\n",
       "\n",
       "    .dataframe thead th {\n",
       "        text-align: right;\n",
       "    }\n",
       "</style>\n",
       "<table border=\"1\" class=\"dataframe\">\n",
       "  <thead>\n",
       "    <tr style=\"text-align: right;\">\n",
       "      <th></th>\n",
       "      <th>company_name</th>\n",
       "      <th>industry</th>\n",
       "      <th>hq</th>\n",
       "      <th>employee_num</th>\n",
       "      <th>revenue</th>\n",
       "    </tr>\n",
       "  </thead>\n",
       "  <tbody>\n",
       "    <tr>\n",
       "      <td>0</td>\n",
       "      <td>AnalysePeople</td>\n",
       "      <td>None</td>\n",
       "      <td>Amsterdam</td>\n",
       "      <td>[AnalysePeople website]</td>\n",
       "      <td>None</td>\n",
       "    </tr>\n",
       "    <tr>\n",
       "      <td>1</td>\n",
       "      <td>ABN AMRO Bank</td>\n",
       "      <td>Banks and Financial Services</td>\n",
       "      <td>Gustav Mahlerlaan 10\\r\\n1082 PP, Amsterdam</td>\n",
       "      <td>10,000+</td>\n",
       "      <td>more than $10B (USD)</td>\n",
       "    </tr>\n",
       "    <tr>\n",
       "      <td>2</td>\n",
       "      <td>Essent</td>\n",
       "      <td>Energy and Utilities</td>\n",
       "      <td>Willemsplein 4, 5211 AK 's-Hertogenbosch</td>\n",
       "      <td>1,001 to 5,000</td>\n",
       "      <td>$5M to $25M (USD)</td>\n",
       "    </tr>\n",
       "    <tr>\n",
       "      <td>3</td>\n",
       "      <td>Orange Quarter</td>\n",
       "      <td>Orange Quarter website</td>\n",
       "      <td>Amsterdam (Nederland)</td>\n",
       "      <td>11 to 50</td>\n",
       "      <td>None</td>\n",
       "    </tr>\n",
       "    <tr>\n",
       "      <td>4</td>\n",
       "      <td>Yacht</td>\n",
       "      <td>None</td>\n",
       "      <td>Diemermere 25\\r\\n1112 TC Diemen\\r\\n</td>\n",
       "      <td>[Twitter]</td>\n",
       "      <td>None</td>\n",
       "    </tr>\n",
       "  </tbody>\n",
       "</table>\n",
       "</div>"
      ],
      "text/plain": [
       "     company_name                      industry  \\\n",
       "0   AnalysePeople                          None   \n",
       "1   ABN AMRO Bank  Banks and Financial Services   \n",
       "2          Essent          Energy and Utilities   \n",
       "3  Orange Quarter        Orange Quarter website   \n",
       "4           Yacht                          None   \n",
       "\n",
       "                                           hq             employee_num  \\\n",
       "0                                   Amsterdam  [AnalysePeople website]   \n",
       "1  Gustav Mahlerlaan 10\\r\\n1082 PP, Amsterdam                  10,000+   \n",
       "2   Willemsplein 4, 5211 AK 's-Hertogenbosch            1,001 to 5,000   \n",
       "3                       Amsterdam (Nederland)                 11 to 50   \n",
       "4         Diemermere 25\\r\\n1112 TC Diemen\\r\\n                [Twitter]   \n",
       "\n",
       "                revenue  \n",
       "0                  None  \n",
       "1  more than $10B (USD)  \n",
       "2     $5M to $25M (USD)  \n",
       "3                  None  \n",
       "4                  None  "
      ]
     },
     "execution_count": 124,
     "metadata": {},
     "output_type": "execute_result"
    }
   ],
   "source": [
    "company_info.head()"
   ]
  },
  {
   "cell_type": "code",
   "execution_count": 137,
   "metadata": {},
   "outputs": [
    {
     "data": {
      "text/plain": [
       "(54, 5)"
      ]
     },
     "execution_count": 137,
     "metadata": {},
     "output_type": "execute_result"
    }
   ],
   "source": [
    "# Finding the companies which do not have any information extracted\n",
    "\n",
    "company_info[company_info.isna().sum(axis=1)==4].shape"
   ]
  },
  {
   "cell_type": "code",
   "execution_count": 143,
   "metadata": {},
   "outputs": [
    {
     "data": {
      "text/plain": [
       "company_name     0\n",
       "industry        76\n",
       "hq              54\n",
       "employee_num    58\n",
       "revenue         97\n",
       "dtype: int64"
      ]
     },
     "execution_count": 143,
     "metadata": {},
     "output_type": "execute_result"
    }
   ],
   "source": [
    "# finding missing values in each column\n",
    "company_info.isna().sum()"
   ]
  },
  {
   "cell_type": "markdown",
   "metadata": {},
   "source": [
    "So there are a total of 54 companies where none of the company information could be extracted. However, further 22 companies did not have the industry category mentioned. <br>\n",
    "There are also several categories that have Twitter link or the company website mentioned in the industry category. These need to be manually scraped."
   ]
  },
  {
   "cell_type": "code",
   "execution_count": 152,
   "metadata": {},
   "outputs": [
    {
     "data": {
      "text/plain": [
       "(97,)"
      ]
     },
     "execution_count": 152,
     "metadata": {},
     "output_type": "execute_result"
    }
   ],
   "source": [
    "# finding all the company names that posted exactly 1 job\n",
    "company_name_equal1= df.company_name.value_counts()[df.company_name.value_counts()==1].index\n",
    "company_name_equal1.shape"
   ]
  },
  {
   "cell_type": "code",
   "execution_count": 154,
   "metadata": {},
   "outputs": [
    {
     "name": "stdout",
     "output_type": "stream",
     "text": [
      "Running page:  1\n",
      "Running page:  2\n",
      "Running page:  3\n",
      "Running page:  4\n",
      "Running page:  5\n",
      "Running page:  6\n",
      "Running page:  7\n",
      "Running page:  8\n",
      "Running page:  9\n",
      "Running page:  10\n",
      "Running page:  11\n",
      "Running page:  12\n",
      "Running page:  13\n",
      "Running page:  14\n",
      "Running page:  15\n",
      "Running page:  16\n",
      "Running page:  17\n",
      "Running page:  18\n",
      "Running page:  19\n",
      "Running page:  20\n",
      "Running page:  21\n",
      "Running page:  22\n",
      "Running page:  23\n",
      "Running page:  24\n",
      "Running page:  25\n",
      "Running page:  26\n",
      "Running page:  27\n",
      "Running page:  28\n",
      "Running page:  29\n",
      "Running page:  30\n",
      "Running page:  31\n",
      "Running page:  32\n",
      "Running page:  33\n",
      "Running page:  34\n",
      "Running page:  35\n",
      "Running page:  36\n",
      "Running page:  37\n",
      "Running page:  38\n",
      "Running page:  39\n",
      "Running page:  40\n",
      "Running page:  41\n",
      "Running page:  42\n",
      "Running page:  43\n",
      "Running page:  44\n",
      "Running page:  45\n",
      "Running page:  46\n",
      "Running page:  47\n",
      "Running page:  48\n",
      "Running page:  49\n",
      "Running page:  50\n",
      "Running page:  51\n",
      "Running page:  52\n",
      "Running page:  53\n",
      "Running page:  54\n",
      "Running page:  55\n",
      "Running page:  56\n",
      "Running page:  57\n",
      "Running page:  58\n",
      "Running page:  59\n",
      "Running page:  60\n",
      "Running page:  61\n",
      "Running page:  62\n",
      "Running page:  63\n",
      "Running page:  64\n",
      "Running page:  65\n",
      "Running page:  66\n",
      "Running page:  67\n",
      "Running page:  68\n",
      "Running page:  69\n",
      "Running page:  70\n",
      "Running page:  71\n",
      "Running page:  72\n",
      "Running page:  73\n",
      "Running page:  74\n",
      "Running page:  75\n",
      "Running page:  76\n",
      "Running page:  77\n",
      "Running page:  78\n",
      "Running page:  79\n",
      "Running page:  80\n",
      "Running page:  81\n",
      "Running page:  82\n",
      "Running page:  83\n",
      "Running page:  84\n",
      "Running page:  85\n",
      "Running page:  86\n",
      "Running page:  87\n",
      "Running page:  88\n",
      "Running page:  89\n",
      "Running page:  90\n",
      "Running page:  91\n",
      "Running page:  92\n",
      "Running page:  93\n",
      "Running page:  94\n",
      "Running page:  95\n",
      "Running page:  96\n",
      "Running page:  97\n"
     ]
    },
    {
     "data": {
      "text/plain": [
       "(97, 5)"
      ]
     },
     "execution_count": 154,
     "metadata": {},
     "output_type": "execute_result"
    }
   ],
   "source": [
    "# Scraping the information from Indeed's URL\n",
    "industry_list=[]\n",
    "hq_list= []\n",
    "employee_list= []\n",
    "revenue_list= []\n",
    "company_name_list= []\n",
    "count=0\n",
    "\n",
    "for x in company_name_equal1:\n",
    "    count+=1\n",
    "    print('Running page: ',count)\n",
    "    url_company= 'https://www.indeed.com/cmp/'+ x.lower().replace(' ','-') # URL for the indeed company page\n",
    "    \n",
    "    try:\n",
    "        response= requests.get(url_company)\n",
    "        soup= BeautifulSoup(response.content)\n",
    "        \n",
    "    except:\n",
    "        continue\n",
    "    \n",
    "    industry, hq,employee, revenue = company_info_indeed(soup)\n",
    "    \n",
    "    company_name_list.append(x)\n",
    "    industry_list.append(industry)\n",
    "    hq_list.append(hq)\n",
    "    employee_list.append(employee)\n",
    "    revenue_list.append(revenue)\n",
    "    \n",
    "    time.sleep(np.random.randint(5,15))\n",
    "    \n",
    "    \n",
    "company_info3= pd.DataFrame({'company_name':company_name_list, 'industry':industry_list,'hq':hq_list,\\\n",
    "                            'employee_num':employee_list,'revenue':revenue_list})\n",
    "\n",
    "# Exporting the company info data to a csv file\n",
    "company_info3.to_csv(r'C:\\Users\\srini\\Projects\\LinkedIn\\Company_info3.csv', index= False)\n",
    "company_info3.shape"
   ]
  },
  {
   "cell_type": "markdown",
   "metadata": {},
   "source": [
    "I manually scraped the missing values from the company information by Googling them and visiting their websites. I stored the data in a csv file on my local hard drive."
   ]
  },
  {
   "cell_type": "code",
   "execution_count": 156,
   "metadata": {},
   "outputs": [
    {
     "data": {
      "text/html": [
       "<div>\n",
       "<style scoped>\n",
       "    .dataframe tbody tr th:only-of-type {\n",
       "        vertical-align: middle;\n",
       "    }\n",
       "\n",
       "    .dataframe tbody tr th {\n",
       "        vertical-align: top;\n",
       "    }\n",
       "\n",
       "    .dataframe thead th {\n",
       "        text-align: right;\n",
       "    }\n",
       "</style>\n",
       "<table border=\"1\" class=\"dataframe\">\n",
       "  <thead>\n",
       "    <tr style=\"text-align: right;\">\n",
       "      <th></th>\n",
       "      <th>company_name</th>\n",
       "      <th>industry</th>\n",
       "      <th>hq</th>\n",
       "      <th>employee_num</th>\n",
       "      <th>revenue</th>\n",
       "    </tr>\n",
       "  </thead>\n",
       "  <tbody>\n",
       "    <tr>\n",
       "      <td>0</td>\n",
       "      <td>AnalysePeople</td>\n",
       "      <td>Human Resources and Staffing</td>\n",
       "      <td>Netherlands</td>\n",
       "      <td>NaN</td>\n",
       "      <td>NaN</td>\n",
       "    </tr>\n",
       "    <tr>\n",
       "      <td>1</td>\n",
       "      <td>ABN AMRO Bank</td>\n",
       "      <td>Banks and Financial Services</td>\n",
       "      <td>Netherlands</td>\n",
       "      <td>10,000+</td>\n",
       "      <td>more than $10B (USD)</td>\n",
       "    </tr>\n",
       "    <tr>\n",
       "      <td>2</td>\n",
       "      <td>Essent</td>\n",
       "      <td>Energy and Utilities</td>\n",
       "      <td>Netherlands</td>\n",
       "      <td>1,001 to 5,000</td>\n",
       "      <td>$5M to $25M (USD)</td>\n",
       "    </tr>\n",
       "  </tbody>\n",
       "</table>\n",
       "</div>"
      ],
      "text/plain": [
       "    company_name                      industry           hq    employee_num  \\\n",
       "0  AnalysePeople  Human Resources and Staffing  Netherlands             NaN   \n",
       "1  ABN AMRO Bank  Banks and Financial Services  Netherlands         10,000+   \n",
       "2         Essent          Energy and Utilities  Netherlands  1,001 to 5,000   \n",
       "\n",
       "                revenue  \n",
       "0                   NaN  \n",
       "1  more than $10B (USD)  \n",
       "2     $5M to $25M (USD)  "
      ]
     },
     "execution_count": 156,
     "metadata": {},
     "output_type": "execute_result"
    }
   ],
   "source": [
    "# Gathering the manually scraped results to form a master sheet for company info\n",
    "company_info_master= pd.read_csv(r'C:\\Users\\srini\\Projects\\LinkedIn\\Manual Scrape.csv')\n",
    "company_info_master.head(3)"
   ]
  },
  {
   "cell_type": "code",
   "execution_count": 157,
   "metadata": {},
   "outputs": [
    {
     "data": {
      "text/plain": [
       "company_name      0\n",
       "industry         26\n",
       "hq               31\n",
       "employee_num    208\n",
       "revenue         160\n",
       "dtype: int64"
      ]
     },
     "execution_count": 157,
     "metadata": {},
     "output_type": "execute_result"
    }
   ],
   "source": [
    "# Finding missing values\n",
    "company_info_master.isna().sum()"
   ]
  },
  {
   "cell_type": "code",
   "execution_count": 160,
   "metadata": {},
   "outputs": [
    {
     "data": {
      "text/html": [
       "<div>\n",
       "<style scoped>\n",
       "    .dataframe tbody tr th:only-of-type {\n",
       "        vertical-align: middle;\n",
       "    }\n",
       "\n",
       "    .dataframe tbody tr th {\n",
       "        vertical-align: top;\n",
       "    }\n",
       "\n",
       "    .dataframe thead th {\n",
       "        text-align: right;\n",
       "    }\n",
       "</style>\n",
       "<table border=\"1\" class=\"dataframe\">\n",
       "  <thead>\n",
       "    <tr style=\"text-align: right;\">\n",
       "      <th></th>\n",
       "      <th>job_title</th>\n",
       "      <th>company_name</th>\n",
       "      <th>location</th>\n",
       "      <th>job_date</th>\n",
       "      <th>company_rating</th>\n",
       "      <th>industry</th>\n",
       "      <th>hq</th>\n",
       "      <th>employee_num</th>\n",
       "      <th>revenue</th>\n",
       "    </tr>\n",
       "  </thead>\n",
       "  <tbody>\n",
       "    <tr>\n",
       "      <td>0</td>\n",
       "      <td>Senior Data Scientist</td>\n",
       "      <td>ABN AMRO Bank</td>\n",
       "      <td>Amsterdam</td>\n",
       "      <td>Vandaag</td>\n",
       "      <td>4.1</td>\n",
       "      <td>Banks and Financial Services</td>\n",
       "      <td>Netherlands</td>\n",
       "      <td>10,000+</td>\n",
       "      <td>more than $10B (USD)</td>\n",
       "    </tr>\n",
       "    <tr>\n",
       "      <td>1</td>\n",
       "      <td>Enterprise Data Scientist</td>\n",
       "      <td>Philip Morris International</td>\n",
       "      <td>Nederland</td>\n",
       "      <td>Zojuist geplaatst</td>\n",
       "      <td>4.3</td>\n",
       "      <td>Consumer Goods and Services</td>\n",
       "      <td>Switzerland</td>\n",
       "      <td>10,000+</td>\n",
       "      <td>more than $10B (USD)</td>\n",
       "    </tr>\n",
       "    <tr>\n",
       "      <td>2</td>\n",
       "      <td>DATA SCIENTIST BIOINFORMATICS</td>\n",
       "      <td>TMC</td>\n",
       "      <td>Amsterdam</td>\n",
       "      <td>Meer dan 30 dagen geleden</td>\n",
       "      <td>3.5</td>\n",
       "      <td>Human Resources and Staffing</td>\n",
       "      <td>Netherlands</td>\n",
       "      <td>NaN</td>\n",
       "      <td>&lt;a class=\"cmp-CompanyLink\" data-tn-element=\"co...</td>\n",
       "    </tr>\n",
       "    <tr>\n",
       "      <td>3</td>\n",
       "      <td>Data Scientist</td>\n",
       "      <td>Sam Media</td>\n",
       "      <td>Eindhoven</td>\n",
       "      <td>1 dag geleden</td>\n",
       "      <td>4.0</td>\n",
       "      <td>Media, News and Publishing</td>\n",
       "      <td>Netherlands</td>\n",
       "      <td>NaN</td>\n",
       "      <td>NaN</td>\n",
       "    </tr>\n",
       "    <tr>\n",
       "      <td>4</td>\n",
       "      <td>Data Scientist</td>\n",
       "      <td>Infiniot</td>\n",
       "      <td>Utrecht Leidsche Rijn</td>\n",
       "      <td>Meer dan 30 dagen geleden</td>\n",
       "      <td>4.2</td>\n",
       "      <td>Internet and Software</td>\n",
       "      <td>Netherlands</td>\n",
       "      <td>NaN</td>\n",
       "      <td>NaN</td>\n",
       "    </tr>\n",
       "  </tbody>\n",
       "</table>\n",
       "</div>"
      ],
      "text/plain": [
       "                       job_title                 company_name  \\\n",
       "0          Senior Data Scientist                ABN AMRO Bank   \n",
       "1      Enterprise Data Scientist  Philip Morris International   \n",
       "2  DATA SCIENTIST BIOINFORMATICS                          TMC   \n",
       "3                 Data Scientist                    Sam Media   \n",
       "4                 Data Scientist                     Infiniot   \n",
       "\n",
       "                location                   job_date  company_rating  \\\n",
       "0              Amsterdam                    Vandaag             4.1   \n",
       "1              Nederland          Zojuist geplaatst             4.3   \n",
       "2              Amsterdam  Meer dan 30 dagen geleden             3.5   \n",
       "3              Eindhoven              1 dag geleden             4.0   \n",
       "4  Utrecht Leidsche Rijn  Meer dan 30 dagen geleden             4.2   \n",
       "\n",
       "                       industry           hq employee_num  \\\n",
       "0  Banks and Financial Services  Netherlands      10,000+   \n",
       "1   Consumer Goods and Services  Switzerland      10,000+   \n",
       "2  Human Resources and Staffing  Netherlands          NaN   \n",
       "3    Media, News and Publishing  Netherlands          NaN   \n",
       "4         Internet and Software  Netherlands          NaN   \n",
       "\n",
       "                                             revenue  \n",
       "0                               more than $10B (USD)  \n",
       "1                               more than $10B (USD)  \n",
       "2  <a class=\"cmp-CompanyLink\" data-tn-element=\"co...  \n",
       "3                                                NaN  \n",
       "4                                                NaN  "
      ]
     },
     "execution_count": 160,
     "metadata": {},
     "output_type": "execute_result"
    }
   ],
   "source": [
    "# Merging the company info and original dataset together\n",
    "df= pd.merge(df,company_info_master,on='company_name',how='left', )\n",
    "df.head()"
   ]
  },
  {
   "cell_type": "markdown",
   "metadata": {},
   "source": [
    "## 3. Data Wrangling"
   ]
  },
  {
   "cell_type": "code",
   "execution_count": 161,
   "metadata": {},
   "outputs": [
    {
     "data": {
      "text/plain": [
       "(1230, 9)"
      ]
     },
     "execution_count": 161,
     "metadata": {},
     "output_type": "execute_result"
    }
   ],
   "source": [
    "df.shape"
   ]
  },
  {
   "cell_type": "markdown",
   "metadata": {},
   "source": [
    "**3.1 Duplicate values**"
   ]
  },
  {
   "cell_type": "code",
   "execution_count": 163,
   "metadata": {},
   "outputs": [
    {
     "data": {
      "text/plain": [
       "374"
      ]
     },
     "execution_count": 163,
     "metadata": {},
     "output_type": "execute_result"
    }
   ],
   "source": [
    "# Finding duplicate values in the data frame\n",
    "df.duplicated(subset=['job_title','company_name', 'location']).sum()"
   ]
  },
  {
   "cell_type": "code",
   "execution_count": 164,
   "metadata": {},
   "outputs": [
    {
     "data": {
      "text/plain": [
       "(856, 9)"
      ]
     },
     "execution_count": 164,
     "metadata": {},
     "output_type": "execute_result"
    }
   ],
   "source": [
    "# Removing these duplicate values\n",
    "df.drop_duplicates(subset=['job_title','company_name', 'location'], inplace= True)\n",
    "df.shape"
   ]
  },
  {
   "cell_type": "markdown",
   "metadata": {},
   "source": [
    "**3.2 Missing Values**"
   ]
  },
  {
   "cell_type": "code",
   "execution_count": 165,
   "metadata": {},
   "outputs": [
    {
     "data": {
      "text/plain": [
       "job_title           1\n",
       "company_name        0\n",
       "location          153\n",
       "job_date            0\n",
       "company_rating    309\n",
       "industry           35\n",
       "hq                 41\n",
       "employee_num      558\n",
       "revenue           502\n",
       "dtype: int64"
      ]
     },
     "execution_count": 165,
     "metadata": {},
     "output_type": "execute_result"
    }
   ],
   "source": [
    "# Finding missing values\n",
    "df.isna().sum()"
   ]
  },
  {
   "cell_type": "markdown",
   "metadata": {},
   "source": [
    "Most of these missing values for company information were not available easily on Indeed website or on Google search. These will be kept as it is."
   ]
  },
  {
   "cell_type": "code",
   "execution_count": 171,
   "metadata": {},
   "outputs": [],
   "source": [
    "# Filling the information with missing job title as Data Scientist\n",
    "df.loc[df[df.job_title.isna()].index,'job_title']= 'Data Scientist'"
   ]
  },
  {
   "cell_type": "markdown",
   "metadata": {},
   "source": [
    "**3.3 Date of job posting**"
   ]
  },
  {
   "cell_type": "code",
   "execution_count": 173,
   "metadata": {},
   "outputs": [],
   "source": [
    "# Changing the just posted or posted today to 0 days\n",
    "df.job_date.replace({'Vandaag':0,'Zojuist geplaatst':0}, inplace= True)"
   ]
  },
  {
   "cell_type": "code",
   "execution_count": 175,
   "metadata": {},
   "outputs": [
    {
     "data": {
      "text/plain": [
       "0                            0\n",
       "1                            0\n",
       "2    Meer dan 30 dagen geleden\n",
       "3                1 dag geleden\n",
       "4    Meer dan 30 dagen geleden\n",
       "Name: job_date, dtype: object"
      ]
     },
     "execution_count": 175,
     "metadata": {},
     "output_type": "execute_result"
    }
   ],
   "source": [
    "df.job_date.head()"
   ]
  },
  {
   "cell_type": "code",
   "execution_count": 188,
   "metadata": {},
   "outputs": [
    {
     "data": {
      "text/html": [
       "<div>\n",
       "<style scoped>\n",
       "    .dataframe tbody tr th:only-of-type {\n",
       "        vertical-align: middle;\n",
       "    }\n",
       "\n",
       "    .dataframe tbody tr th {\n",
       "        vertical-align: top;\n",
       "    }\n",
       "\n",
       "    .dataframe thead th {\n",
       "        text-align: right;\n",
       "    }\n",
       "</style>\n",
       "<table border=\"1\" class=\"dataframe\">\n",
       "  <thead>\n",
       "    <tr style=\"text-align: right;\">\n",
       "      <th></th>\n",
       "      <th>job_title</th>\n",
       "      <th>company_name</th>\n",
       "      <th>location</th>\n",
       "      <th>job_date</th>\n",
       "      <th>company_rating</th>\n",
       "      <th>industry</th>\n",
       "      <th>hq</th>\n",
       "      <th>employee_num</th>\n",
       "      <th>revenue</th>\n",
       "      <th>posting_date</th>\n",
       "    </tr>\n",
       "  </thead>\n",
       "  <tbody>\n",
       "    <tr>\n",
       "      <td>0</td>\n",
       "      <td>Senior Data Scientist</td>\n",
       "      <td>ABN AMRO Bank</td>\n",
       "      <td>Amsterdam</td>\n",
       "      <td>0</td>\n",
       "      <td>4.1</td>\n",
       "      <td>Banks and Financial Services</td>\n",
       "      <td>Netherlands</td>\n",
       "      <td>10,000+</td>\n",
       "      <td>more than $10B (USD)</td>\n",
       "      <td>2020-06-04</td>\n",
       "    </tr>\n",
       "    <tr>\n",
       "      <td>1</td>\n",
       "      <td>Enterprise Data Scientist</td>\n",
       "      <td>Philip Morris International</td>\n",
       "      <td>Nederland</td>\n",
       "      <td>0</td>\n",
       "      <td>4.3</td>\n",
       "      <td>Consumer Goods and Services</td>\n",
       "      <td>Switzerland</td>\n",
       "      <td>10,000+</td>\n",
       "      <td>more than $10B (USD)</td>\n",
       "      <td>2020-06-04</td>\n",
       "    </tr>\n",
       "    <tr>\n",
       "      <td>2</td>\n",
       "      <td>DATA SCIENTIST BIOINFORMATICS</td>\n",
       "      <td>TMC</td>\n",
       "      <td>Amsterdam</td>\n",
       "      <td>Meer dan 30 dagen geleden</td>\n",
       "      <td>3.5</td>\n",
       "      <td>Human Resources and Staffing</td>\n",
       "      <td>Netherlands</td>\n",
       "      <td>NaN</td>\n",
       "      <td>&lt;a class=\"cmp-CompanyLink\" data-tn-element=\"co...</td>\n",
       "      <td>2020-05-05</td>\n",
       "    </tr>\n",
       "  </tbody>\n",
       "</table>\n",
       "</div>"
      ],
      "text/plain": [
       "                       job_title                 company_name   location  \\\n",
       "0          Senior Data Scientist                ABN AMRO Bank  Amsterdam   \n",
       "1      Enterprise Data Scientist  Philip Morris International  Nederland   \n",
       "2  DATA SCIENTIST BIOINFORMATICS                          TMC  Amsterdam   \n",
       "\n",
       "                    job_date  company_rating                      industry  \\\n",
       "0                          0             4.1  Banks and Financial Services   \n",
       "1                          0             4.3   Consumer Goods and Services   \n",
       "2  Meer dan 30 dagen geleden             3.5  Human Resources and Staffing   \n",
       "\n",
       "            hq employee_num  \\\n",
       "0  Netherlands      10,000+   \n",
       "1  Switzerland      10,000+   \n",
       "2  Netherlands          NaN   \n",
       "\n",
       "                                             revenue posting_date  \n",
       "0                               more than $10B (USD)   2020-06-04  \n",
       "1                               more than $10B (USD)   2020-06-04  \n",
       "2  <a class=\"cmp-CompanyLink\" data-tn-element=\"co...   2020-05-05  "
      ]
     },
     "execution_count": 188,
     "metadata": {},
     "output_type": "execute_result"
    }
   ],
   "source": [
    "# Extracting how many days ago job was posted information \n",
    "df['posting_date']= df.job_date.apply(lambda x: pd.to_datetime('2020-6-4')- \\\n",
    "                                      datetime.timedelta(days= int(re.findall('\\d+',str(x))[0])))\n",
    "df.head(3)"
   ]
  },
  {
   "cell_type": "code",
   "execution_count": 189,
   "metadata": {},
   "outputs": [
    {
     "name": "stdout",
     "output_type": "stream",
     "text": [
      "<class 'pandas.core.frame.DataFrame'>\n",
      "Int64Index: 856 entries, 0 to 1212\n",
      "Data columns (total 10 columns):\n",
      "job_title         856 non-null object\n",
      "company_name      856 non-null object\n",
      "location          703 non-null object\n",
      "job_date          856 non-null object\n",
      "company_rating    547 non-null float64\n",
      "industry          821 non-null object\n",
      "hq                815 non-null object\n",
      "employee_num      298 non-null object\n",
      "revenue           354 non-null object\n",
      "posting_date      856 non-null datetime64[ns]\n",
      "dtypes: datetime64[ns](1), float64(1), object(8)\n",
      "memory usage: 113.6+ KB\n"
     ]
    }
   ],
   "source": [
    "df.info()"
   ]
  },
  {
   "cell_type": "markdown",
   "metadata": {},
   "source": [
    "**3.4 Modifying Number of Employee column**"
   ]
  },
  {
   "cell_type": "code",
   "execution_count": 191,
   "metadata": {},
   "outputs": [
    {
     "data": {
      "text/plain": [
       "array(['10,000+', nan, '1,001 to 5,000', '501 to 1,000',\n",
       "       '5,001 to 10,000', '201 to 500', '51 to 200', '11 to 50',\n",
       "       '2 to 10'], dtype=object)"
      ]
     },
     "execution_count": 191,
     "metadata": {},
     "output_type": "execute_result"
    }
   ],
   "source": [
    "df.employee_num.unique()"
   ]
  },
  {
   "cell_type": "code",
   "execution_count": 195,
   "metadata": {},
   "outputs": [],
   "source": [
    "employee_order= pd.api.types.CategoricalDtype(['2 to 10','11 to 50','51 to 200','201 to 500','501 to 1,000',\\\n",
    "                                               '1,001 to 5,000','5,001 to 10,000','10,000+'], ordered= True )"
   ]
  },
  {
   "cell_type": "code",
   "execution_count": 200,
   "metadata": {},
   "outputs": [
    {
     "data": {
      "text/plain": [
       "0              10,000+\n",
       "1              10,000+\n",
       "2                  NaN\n",
       "3                  NaN\n",
       "4                  NaN\n",
       "             ...      \n",
       "1163    1,001 to 5,000\n",
       "1164         51 to 200\n",
       "1165               NaN\n",
       "1181    1,001 to 5,000\n",
       "1212           10,000+\n",
       "Name: employee_num, Length: 856, dtype: category\n",
       "Categories (8, object): [2 to 10 < 11 to 50 < 51 to 200 < 201 to 500 < 501 to 1,000 < 1,001 to 5,000 < 5,001 to 10,000 < 10,000+]"
      ]
     },
     "execution_count": 200,
     "metadata": {},
     "output_type": "execute_result"
    }
   ],
   "source": [
    "df.employee_num.astype(employee_order)"
   ]
  },
  {
   "cell_type": "markdown",
   "metadata": {},
   "source": [
    "**3.5 Modifying Revenue Column**"
   ]
  },
  {
   "cell_type": "code",
   "execution_count": 278,
   "metadata": {},
   "outputs": [
    {
     "data": {
      "text/plain": [
       "Index(['more than $10B (USD)', '$100M to $500M (USD)', '$5M to $25M (USD)',\n",
       "       '$1B to $5B (USD)', 'less than $1M (USD)', '$500M to $1B (USD)',\n",
       "       '$1M to $5M (USD)', '$25M to $100M (USD)', '$5B to $10B (USD)'],\n",
       "      dtype='object')"
      ]
     },
     "execution_count": 278,
     "metadata": {},
     "output_type": "execute_result"
    }
   ],
   "source": [
    "df.revenue.value_counts().index[:7]"
   ]
  },
  {
   "cell_type": "code",
   "execution_count": 214,
   "metadata": {},
   "outputs": [
    {
     "data": {
      "text/plain": [
       "0       more than $10B (USD)\n",
       "1       more than $10B (USD)\n",
       "2                        NaN\n",
       "3                        NaN\n",
       "4                        NaN\n",
       "                ...         \n",
       "1163       $5M to $25M (USD)\n",
       "1164                     NaN\n",
       "1165                     NaN\n",
       "1181       $5M to $25M (USD)\n",
       "1212    more than $10B (USD)\n",
       "Name: revenue, Length: 856, dtype: category\n",
       "Categories (9, object): [less than $1M (USD) < $1M to $5M (USD) < $5M to $25M (USD) < $25M to $100M (USD) ... $500M to $1B (USD) < $1B to $5B (USD) < $5B to $10B (USD) < more than $10B (USD)]"
      ]
     },
     "execution_count": 214,
     "metadata": {},
     "output_type": "execute_result"
    }
   ],
   "source": [
    "revenue_order= pd.api.types.CategoricalDtype(['less than $1M (USD)','$1M to $5M (USD)','$5M to $25M (USD)',\\\n",
    "'$25M to $100M (USD)','$100M to $500M (USD)','$500M to $1B (USD)','$1B to $5B (USD)','$5B to $10B (USD)',\\\n",
    "                                              'more than $10B (USD)'], ordered= True)\n",
    "df.revenue.astype(revenue_order)"
   ]
  },
  {
   "cell_type": "code",
   "execution_count": 276,
   "metadata": {},
   "outputs": [],
   "source": [
    "# Removing all the hyperlinks from the Revenue columns\n",
    "revenue_list= ['less than $1M (USD)','$1M to $5M (USD)','$5M to $25M (USD)',\\\n",
    "'$25M to $100M (USD)','$100M to $500M (USD)','$500M to $1B (USD)','$1B to $5B (USD)','$5B to $10B (USD)',\\\n",
    "                                              'more than $10B (USD)']\n",
    "df.revenue= df.revenue.apply(lambda x: x if x in revenue_list else None)"
   ]
  },
  {
   "cell_type": "code",
   "execution_count": 277,
   "metadata": {},
   "outputs": [
    {
     "data": {
      "text/plain": [
       "more than $10B (USD)    58\n",
       "$100M to $500M (USD)    51\n",
       "$5M to $25M (USD)       39\n",
       "$1B to $5B (USD)        30\n",
       "less than $1M (USD)     14\n",
       "$500M to $1B (USD)      10\n",
       "$1M to $5M (USD)        10\n",
       "$25M to $100M (USD)      8\n",
       "$5B to $10B (USD)        6\n",
       "Name: revenue, dtype: int64"
      ]
     },
     "execution_count": 277,
     "metadata": {},
     "output_type": "execute_result"
    }
   ],
   "source": [
    "df.revenue.value_counts()"
   ]
  },
  {
   "cell_type": "markdown",
   "metadata": {},
   "source": [
    "**3.6 Futher exploration of data**"
   ]
  },
  {
   "cell_type": "code",
   "execution_count": 216,
   "metadata": {},
   "outputs": [
    {
     "data": {
      "text/plain": [
       "array(['Amsterdam', 'Nederland', 'Eindhoven', 'Utrecht Leidsche Rijn',\n",
       "       'Breda', 'Utrecht', 'Rotterdam', 'Den Haag', 'Middelburg', nan,\n",
       "       'Amsterdam Centrum', 'Noordwijk', 'Groningen', 'Delft', 'Delden',\n",
       "       'Twente', 'Oirschot', 'Elst', 'Leiden', 'Schiedam', 'Zwolle',\n",
       "       'Nieuwegein', 'Leeuwarden', 'Deventer', 'Sittard',\n",
       "       'Amsterdam Zuid', 'Rijswijk', 'Bergschenhoek', 'Diemen',\n",
       "       'Zuid-Holland', 'Amsterdam Westpoort', 'Zaltbommel',\n",
       "       'Utrecht Binnenstad', 'Noord-Brabant', 'Utrecht Oost',\n",
       "       'Wageningen', 'Limburg', 'Badhoevedorp', 'Driebergen', 'Hoofddorp',\n",
       "       'Amersfoort', 'Tilburg', 'Amsterdam Oost', 'Zwijndrecht',\n",
       "       'Den Bosch', 'De Lier', 'Gorinchem', 'Veldhoven', 'Nijmegen',\n",
       "       'Zaandam', 'Rotterdam Centrum', 'Maasdijk', 'Haarlem',\n",
       "       'Amsterdam-Zuidoost', 'Amsterdam Nieuw-West', 'Noord-Holland',\n",
       "       'Varsseveld', 'Soest', 'Aarle-Rixtel', 'Zutphen', 'Leusden',\n",
       "       'Zeist', 'Enschede', 'Maassluis', 'Naarden', 'Hilversum',\n",
       "       'Bilthoven', 'Oss', 'Lijnden', 'Hoogerheide', 'Houten',\n",
       "       'Hoogeveen', 'Zierikzee', 'Utrecht Vleuten-De Meern', 'Enkhuizen',\n",
       "       'Doetinchem', 'Veghel', 'Woerden', 'Barendrecht', 'Arnhem',\n",
       "       'Randstad', 'Utrecht (provincie)', 'Son', 'Veenendaal',\n",
       "       'Zoetermeer', 'Driebergen-Rijsenburg', 'Apeldoorn'], dtype=object)"
      ]
     },
     "execution_count": 216,
     "metadata": {},
     "output_type": "execute_result"
    }
   ],
   "source": [
    "# Finding different job locations\n",
    "df.location.unique()"
   ]
  },
  {
   "cell_type": "markdown",
   "metadata": {},
   "source": [
    "**3.7 Categorizing job role by seniority levels**"
   ]
  },
  {
   "cell_type": "code",
   "execution_count": 218,
   "metadata": {},
   "outputs": [
    {
     "data": {
      "text/plain": [
       "array(['Senior Data Scientist', 'Enterprise Data Scientist',\n",
       "       'DATA SCIENTIST BIOINFORMATICS', 'Data Scientist',\n",
       "       'junior Data Scientist en junior onderzoeker',\n",
       "       'Disease Monitoring Scientist',\n",
       "       'Junior/Medior Data Scientist | Logistics | Utrecht',\n",
       "       'Data Scientist / Advanced Data Analyst', 'SENIOR DATA SCIENTIST',\n",
       "       '6 Data Scientists (jr/mr/sr)– Telecom',\n",
       "       'Parttime Data Analist/Scientist GEO', 'Data Scientist Powerhouse',\n",
       "       'Computer Scientist', 'Data scientist',\n",
       "       'Junior Scientist Vector Development',\n",
       "       'Data Analist C+ Activation', 'Data Scientist I',\n",
       "       'Medior/Senior Data Scientist | EMEA | The Hague',\n",
       "       'Junior Data Scientist', 'Machine learning engineer',\n",
       "       'Data Scientist - Freelance', 'Scientist, Infectious Diseases',\n",
       "       'Scientist',\n",
       "       '2 Data Scientists for the Behavioural Data Science Incubator',\n",
       "       'Data Scientist – Energie – Rotterdam',\n",
       "       'Data Scientist Planning and Forecasting',\n",
       "       'Data Stewardship Coordinator (TUD00204)',\n",
       "       'Junior scientist structural dynamics | Delft',\n",
       "       'Data Scientist - Product',\n",
       "       'Data Analyst with an interest in Big Data and Engineering',\n",
       "       'Data Scientist / Big Data Engineer / BI Specialist',\n",
       "       'Artificial Intelligence Engineer',\n",
       "       'Scientist Formulation Process Development',\n",
       "       'Assistant scientist COVID-19 Vaccine production',\n",
       "       'Data Engineer / ETL-specialist', 'Data Scientist &amp; Engineer',\n",
       "       'R&amp;D ENGINEER AND SCIENTIST NL',\n",
       "       'Data Science Development Program Leeuwarden',\n",
       "       'Senior data-scientist',\n",
       "       'Medior/ Senior Data Scientist | Telecommunication',\n",
       "       'Projectleider Data Infrastructuren/Bioinformatica voor Rare Disease Onderzoek',\n",
       "       'Data Scientist voor een duurzame omgeving',\n",
       "       'Senior Scientist, Biochemical Analysis',\n",
       "       'EXPERIMENTAL PHYSICIST / DEVELOPMENT ENGINEER',\n",
       "       'Data Scientist | Overheid | 3+ maanden',\n",
       "       'Customer Data Analist (SAS/R/Python, SQL, IBM Cognos) - Leeuwarden',\n",
       "       'Data Science Consultant (JUNIOR/MEDIOR/SENIOR)',\n",
       "       'Data Scientist – Media &amp; Entertainment',\n",
       "       'Node.js / Javascript Engineer with an interest in Data Science',\n",
       "       'Content Marketeer', 'LegalTech Internship',\n",
       "       'Lead Data Scientist (Artificial Intellingence- PHD Level)',\n",
       "       'Data Scientist | Consultancy',\n",
       "       'Shipping &amp; Receiving Clerk / Bayer Crop Science / Bergschenhoek / full time',\n",
       "       'Data Engineer', 'Senior Data Scientist | Telecom',\n",
       "       'Data Platform Engineer', 'Fellow Intern', 'Data Steward',\n",
       "       'Data Scientist Inventory Management',\n",
       "       'Data Scientist Consultant – Detachering – Randstad',\n",
       "       'Head of Data', 'AI Test Expert', 'Data manager (TUD00212)',\n",
       "       'Five Assistant Professors in Social Science and Humanities',\n",
       "       'Postdoc position in advanced data mining and analysis of marine plastic pollution',\n",
       "       'CX Leadership Programme',\n",
       "       'Data Engineer Advanced Analytics - Utrecht',\n",
       "       'MSc / PhD Data Scientist Innovation',\n",
       "       'Senior Data Scientist (FT)',\n",
       "       'Senior Data Scientist | Consultancy | Rijswijk',\n",
       "       'Scientist Cystic Fibrosis', 'Postdoc bioinformatics',\n",
       "       'Research Scientist Metal Working Fluids',\n",
       "       'Researcher precison farming', 'Molecular Seed Health Specialist',\n",
       "       'Brand &amp; Crossmedia Research Consultant',\n",
       "       'Research Assistant Bakery Technology', 'Freelance Data Scientist',\n",
       "       'C# Developer (medior/senior)',\n",
       "       'EU Micro Consultancy&amp;Audit Sr Scientist', 'Senior Scientist',\n",
       "       'Afstudeerstage Masterstudent', 'Graduate Intern Data Science',\n",
       "       'Pharmacovigilance Scientist, Netherlands', 'Technician Research',\n",
       "       'Big Data Analytics Engineer',\n",
       "       'Data Engineer for iptiQ EMEA P&amp;C', 'Data Engineer Intern',\n",
       "       'Senior Data Engineer', 'Data Scientist in Tilburg',\n",
       "       'Junior Data Engineer- Oktober 2020',\n",
       "       'Medior/Senior/Lead Data Scientist | Telecom | Utrecht (7x)',\n",
       "       'Alumni Database &amp; Research Officer (EUR)',\n",
       "       'Customer Data Analist Collections Leeuwarden / Amsterdam',\n",
       "       'Stage: HBO Data Scientist voor Energy Facilities',\n",
       "       'Software Engineer - Data Engineering Internship', 'Data engineer',\n",
       "       'Data Engineer | Olie &amp; Energie', 'C# Developer',\n",
       "       'Senior Consultant Data Science', 'Project Lead', 'Data-engineer',\n",
       "       'Flavor Development Scientist',\n",
       "       'Data &amp; Analytics Manager (m/f/d)',\n",
       "       'Scientist Drug Product Development',\n",
       "       'Applied Research Scientist – IoT – Eindhoven', 'Teamlead BI',\n",
       "       'PhD position: “Vegetation development in response to salinity intrusion in tidal wetlands”',\n",
       "       'Senior Data Scientist - GoDataDriven',\n",
       "       'Technical Product Manager, Data',\n",
       "       'Associate Field Scientist (Netherlands)',\n",
       "       'Data Science Traineeship',\n",
       "       'Technician Food Microbiology &amp; Preservation',\n",
       "       'Full Stack Developer',\n",
       "       'Assistant Scientist Biophysics and Process Analytics',\n",
       "       'Analist assay ontwikkeling biochemie (GMP)',\n",
       "       'Data Science Chapter Lead - Lending',\n",
       "       'Biomedical Researcher - OnePlanet Research Center',\n",
       "       'Data Science Researcher', 'Data Science Chapter Lead',\n",
       "       'Junior scientist structural dynamics',\n",
       "       'Junior Consultant Insights &amp; Data',\n",
       "       'Senior Scientist DMPK / PKPD', 'Big Data Engineer',\n",
       "       'Big Data Engineer | 6-12 months | 3x',\n",
       "       'Manager Data &amp; Analytics',\n",
       "       'Vacancy Lab Coordinator Microbiology / Bayer / Fulltime',\n",
       "       'PhD Candidate - Measuring the General External Exposome 2: Addressing the Modifiable Spatiotemporal Unit Problem',\n",
       "       '(Junior / Senior) Data Scientist / Strategy Analyst',\n",
       "       'Digital Personalisation Expert',\n",
       "       'Senior Data Scientist &amp; Team Lead - Machine Learning',\n",
       "       'Medior Business Developer Infrastructure | Delft',\n",
       "       'Senior Data Analist', 'Radar Remote Sensing Specialist',\n",
       "       'Research Associate New Antibody Products',\n",
       "       'Member of the Executive Board Tilburg University',\n",
       "       'PhD/Postdoc position in modeling cellular decision making during multicellular development',\n",
       "       'Postdoc in plant growth modelling',\n",
       "       'PhD position in Dark Matter Research',\n",
       "       'Remote Clinical Site Monitor (Brussels &amp; Netherlands)',\n",
       "       'Data Scientist in publieke sector',\n",
       "       'Senior Data Scientist | Publisher | Amsterdam',\n",
       "       'Manager Loyalty Analytics',\n",
       "       'Scientist Analytical Method Development',\n",
       "       'Postdoc position in dispersal simulation of floating material in satellite-derived ocean currents',\n",
       "       'Data Analyst', 'Stage: Stage | Data Science (machine learning)',\n",
       "       'L&amp;F Scientist', 'Senior Data Scientist – Intelligente Apps',\n",
       "       'Junior/Medior Data Scientist | Reclame &amp; Marketing | Den Bosch',\n",
       "       'Lead Data Scientist | Energie | Rotterdam',\n",
       "       'Machine Learning Engineer', 'Assistant Scientist',\n",
       "       'Scientist in vitro Biology Fibrosis - Leiden,NL',\n",
       "       'Manager Analytics Operations',\n",
       "       'Junior Data Specialist (Automotive)',\n",
       "       'Account Manager Spectroscopy Netherlands',\n",
       "       'Staat jouw droombaan er niet tussen?', 'Lead Data Engineer',\n",
       "       'Associate Scientist USP', 'Junior Analytics Consultant NL',\n",
       "       'Medior/Senior Data Scientist / 6150 euro', 'UX Designer',\n",
       "       'Lead Data Science', 'MSc Data Engineer',\n",
       "       'Fullstack Python Developer', 'Assistant Scientist Biophysics',\n",
       "       'Software Developer', 'Data Scientist KYC',\n",
       "       'ABN AMRO IT Business Trainee - Dedicated Program Young Colfield',\n",
       "       'Medior Data Scientist', 'Frontend Developer (Javascript)',\n",
       "       'Program Manager Precision Agriculture &amp; Food – OnePlanet Research Center',\n",
       "       'Senior Technician - Assay Development',\n",
       "       'Data-driven Scientist gezocht', 'MDM Analyst',\n",
       "       'Back-End Developer', 'Data Analist in Utrecht',\n",
       "       'PhD position: Plant root gene regulatory networks in host-microbiome interactions',\n",
       "       'Sensor Application Engineer - OnePlanet Research Center',\n",
       "       'Assistant Professor (TT) Econometrics and Data Science',\n",
       "       'Research Associate, Bioanalytical Science',\n",
       "       'Senior Data &amp; Analytics Consultant', 'Production Engineer',\n",
       "       'Data warehouse engineer',\n",
       "       'Senior Director Data Science and Analytics',\n",
       "       'Junior Data Consultants gezocht!!',\n",
       "       'Business Analist Warehouse Innovatie', 'Marketing Analyst',\n",
       "       'Medior / Senior Data Scientist',\n",
       "       'Graduate internship: machine learning for timeseries',\n",
       "       'Partnering &amp; Scientific Due Diligence Leader AAVs / GTs (Code NL)',\n",
       "       'Business Developer online scientific Agri &amp; Food platform',\n",
       "       'Tenure-track Asst/Assoc/Full Professor Machine Learning for Molecular Design',\n",
       "       '(Senior) Data Platform Engineer', 'Senior AI-NLP Consultant',\n",
       "       'Internet of Things',\n",
       "       'Marketing Intelligence Specialist | Uitgeverij | Amsterdam',\n",
       "       'Data Scientist voor zuivelspecialist',\n",
       "       'PhD or Postdoc position in numerical modelling of plastic and microbe transport in the Atlantic Ocean',\n",
       "       'Software Architect – Platform',\n",
       "       'Team Lead Data Scientist Completed assignment',\n",
       "       'Junior Data Proces Analist',\n",
       "       'Study Responsible Physician COVID-19', 'JAVA Backend Engineer',\n",
       "       'WO Traineeship Data Analist in omgeving Utrecht',\n",
       "       '(Senior) Data Engineer',\n",
       "       'Postdoc in Psychology (ERC project ‘HOMEOSTASIS: The dynamics of visual working memory’)',\n",
       "       'Medical Scientific Expert', 'Yacht Data (Science) Traineeship',\n",
       "       'Data Scientist | 50K', 'Web Analyst',\n",
       "       'ANALYTICS/BI/EPM CONSULTANT',\n",
       "       'Medior/Senior Big Data Engineer 3x | Telecom | Utrecht',\n",
       "       'Datamanager Clinical Trial Office EBMT',\n",
       "       'Assistant Scientist Analytical Biochemistry',\n",
       "       'Data Infrastructure Engineer', 'Open Vacancy',\n",
       "       'Data Engineer, Platform for iptiQ EMEA P&amp;C',\n",
       "       'Promovendus binnen een landelijk consortium ‘opiaatverslaving bij chronische pijn’.',\n",
       "       'Scientist Drug Product Development (Bilthoven)',\n",
       "       'Data Scientist omgeving Amsterdam',\n",
       "       'Solution Architect Business Intelligence',\n",
       "       'Senior Consultant Data &amp; Analytics',\n",
       "       'Consultant Data Scientist', 'Medior/Senior Data Engineer',\n",
       "       'Operational security officer',\n",
       "       'Chapter Lead Platform Engineering Support',\n",
       "       'Systeembeheerder &amp; Client Services Executive',\n",
       "       'Professor Heat Transfer and Thermodynamics',\n",
       "       'Associate Scientist Upstream Processing',\n",
       "       'Business Intelligence (BI) Specialist',\n",
       "       'Associate Scientist USP Celkweek en Fermentatie',\n",
       "       'Senior Research Scientist | IoT | Eindhoven',\n",
       "       'Data Engineer | Consultancy', 'Senior Software Engineer',\n",
       "       'Digital marketing entrepreneur voor zeer innovatieve consultancypartij',\n",
       "       'Senior Data Scientist | Scale-Up | Amsterdam',\n",
       "       'Data Scientist - Utrecht (NL) - IT &amp; Technology',\n",
       "       'PhD position ‘Developing and applying machine learning algorithms to improve prediction in patients with heart failure’',\n",
       "       'Associate Scientist USP (Yacht Life Sciences)',\n",
       "       'Dit IT traineeship leidt jou op tot Big Data Engineer!',\n",
       "       'Machine Learning | Data Scientist', 'AI Strategy Consultant',\n",
       "       'Senior Data Scientist – Financial institute – Amsterdam',\n",
       "       'Data Scientist – Internet – Amsterdam (Dutch Speaking)',\n",
       "       'Assistant professor in Applied Mathematics (Tenure Track',\n",
       "       '(Senior) Data Scientist - Den Bosch (NL) - Consulting',\n",
       "       'Business analist',\n",
       "       'Two Assistant Professor positions in digital design (TUD00220)',\n",
       "       'DevOps Engineer',\n",
       "       'DevOps - Developer - Data Science - Ethical hacker',\n",
       "       'Senior Application Technologist', 'Senior Java Developer',\n",
       "       'Project Engineer', 'Data Scientist Strategie en Voorspellingen',\n",
       "       'Forensic Investigator &amp; Incident Responder (Dutch)',\n",
       "       'ELK Stack Engineer', 'Content and online PR marketer',\n",
       "       'Infrastructure DevOps Engineer', 'Project Manager',\n",
       "       'Digital Product Designer',\n",
       "       'Deep-Learning Based Radar Processing for Intelligent Vehicles (Post-Doc) (TUD00197)',\n",
       "       'Data Science Manager - Digital', 'Junior Data Specialist',\n",
       "       'SEO Scientist',\n",
       "       'Two PhD positions in Plant-Microbe Interactions and in NMR-based Structural Biology: MYCOAT: creating sustainable seed coatings',\n",
       "       'Product Analytics Manager', 'Data Specialist, Data Analist',\n",
       "       'Senior Product Manager', 'Principal Data Scientist',\n",
       "       'Medior Data Scientist | Online Marketing Bureau',\n",
       "       'Medior/Senior Data Scientist – Consultancy – Amsterdam',\n",
       "       'Medior/Senior Data Scientist | Detachering | Amsterdam',\n",
       "       'Lead Data Scientist - Amsterdam (NL) - MarTech',\n",
       "       'Quantum Inspire Senior Project Manager | Delft',\n",
       "       'Product Owner, Pricing', 'Medior UX Designer',\n",
       "       'Frontend Developer (React)', 'Global BI Analyst',\n",
       "       'PhD Research position Physics of thin-films for XUV Optics',\n",
       "       'Scientific Programmer (MD modelling)', 'Data Scientist MI',\n",
       "       'Data Engineer AWS/GCP (Temporary position)',\n",
       "       'Data Platform Engineer – Randstad',\n",
       "       'Data Engineer / Hadoop / Hortonworks',\n",
       "       'Senior UX &amp; UI Designer',\n",
       "       'Postdoc research fellow: Integrated Digital Mobility for Public Transport Disruptions (TUD00214)',\n",
       "       'Senior Digital Analyst (m/f/d)', '.NET Developer',\n",
       "       'Associate Director Consumer Insight',\n",
       "       'Senior Regulatory Toxicologist', 'Analytics Translator',\n",
       "       'MEDIOR CONSULTANT DATA SCIENCE &amp; ANALYTICS',\n",
       "       'Senior Manager Data Science Insights and Analytics - Payments',\n",
       "       'Manager Datamanagement',\n",
       "       'Completed – CRM Data Analyst Completed assignment',\n",
       "       'Platform engineer', 'Principal Big Data Engineer',\n",
       "       'Product Owner, Fraud', 'IT stage', 'Projectleider Data - Utrecht',\n",
       "       'Business analist JO17627', 'AI Software Engineer',\n",
       "       'WO Traineeship Overheid richting Data Analytics in omgeving Leiden',\n",
       "       'Senior Data Proces Analist', 'Senior Data Architect',\n",
       "       'Medior Data Analist', 'Embedded Engineer',\n",
       "       'Research Associate Bio-analytical Science (Yacht Life Sciences)',\n",
       "       'Business Manager Analytics', 'Machine Learning – Einhoven',\n",
       "       'Cloud/ Data Engineer',\n",
       "       'Data Engineer Experienced in AWS or GCP (Permanent Position)',\n",
       "       'PHP Developer - squad Interne Automatisering',\n",
       "       'Senior Back-End Developer', 'ETL-ENGINEER',\n",
       "       '(Senior) Research Associate, Screening &amp; Assay Technologies Operations',\n",
       "       'Senior Backend Engineer',\n",
       "       'Assistant Professor Dynamics of Ship and Offshore Structures (TUD00104)',\n",
       "       'Frontend Developer',\n",
       "       'Data Scientist (System Engineering &amp; Smart Industry)',\n",
       "       'Lead Data Lab / Productowner',\n",
       "       'Postdoc, developer or highly skilled PhD student',\n",
       "       'Data Scientist voor Schaalbare Ontwikkelingen',\n",
       "       'Backend Developer', 'Data Specialist',\n",
       "       'Research Associate Functional Characterization and Bioassays (Yacht Life Sciences)',\n",
       "       'Entrepreneurial Principal Member of Technical Staff AI &amp; IOT',\n",
       "       'Senior Scientist Formulation Development',\n",
       "       'Growth Marketing Manager B2B',\n",
       "       'Operations Co-ordinator - Nijhuis Aquatic Water Services',\n",
       "       'Data Engineer - Amsterdam (NL) - IT &amp; Technology',\n",
       "       'Senior Scientist Microbiology Europe', 'Data Scientists',\n",
       "       'Scientist Clinical Immunology', 'Lead Machine Learning Engineer',\n",
       "       'Medior/Senior Data Scientist | Online Media | Amsterdam',\n",
       "       'PhD in landfill response to in-situ stabilisation (TUD00185)',\n",
       "       'Medical Advisor Hematology NL', 'Marketing Pricing Analist',\n",
       "       'Feature Engineer - Enterprise Data Lake',\n",
       "       'Service Manager Procurement', 'Data specialist',\n",
       "       'Data Scientist (Cloud Search Products)',\n",
       "       'Research Technician Screening Technology', 'Power BI Analyst',\n",
       "       'Senior Software Architect Farm Management',\n",
       "       'Senior DevOps Engineer', 'Account Executive SaaS EMEA',\n",
       "       'Salesforce Marketing Cloud Expert',\n",
       "       'PHP developer - squad Website en Marketing',\n",
       "       'Research Associate Screening and Assay Technologies (Yacht Life Sciences)',\n",
       "       'Interim Frontend Developer',\n",
       "       'Cloud Solution Developer/Architect OnePlanet Research Center',\n",
       "       'BI Consultant', 'Data Science Fast Track',\n",
       "       'Structural Engineer High Tech',\n",
       "       'Econometrist – Data Analist Amsterdam',\n",
       "       'Azure Solution Architect',\n",
       "       'Pacmed Labs PhD Internship - Machine Learning in Health care',\n",
       "       'Senior DevOps with AWS experience', 'Engineering Lead - DevOps',\n",
       "       'AAI Technical Adviser – SURFsara – Amsterdam',\n",
       "       'Senior Software Architect Farm Management full-time (Maassluis, 32-40 uur)',\n",
       "       'Data Science &amp; Analytics Lead',\n",
       "       'Customer Success Manager SaaS EMEA',\n",
       "       'Product Owner, Trust and Safety',\n",
       "       'Medior Project Manager Gezondheidszorg', 'Data Engineer Big Data',\n",
       "       'Assistant professor (UD) - AI in Construction',\n",
       "       'Scala Big Data Engineer - Amsterdam',\n",
       "       'Solution Architect (Software Engineer background) - Consultancy – Amsterdam',\n",
       "       'Senior Analytics Consultant NL',\n",
       "       'Product Owner Emailmarketing/CRM Completed assignment',\n",
       "       'DevOps Consultant – Randstad', 'Docent Informatica',\n",
       "       'Completed – Technisch Webanalist Completed assignment',\n",
       "       'Lead Developer .NET', 'Medior Frontend Developer (Angular)',\n",
       "       'Senior Conversie Specialist Completed assignment',\n",
       "       'Enterprise Account Executive SaaS EMEA',\n",
       "       'Frontend Developer Informatiesystemen Pijpleidingen (Vue)',\n",
       "       'Site Reliability Engineer',\n",
       "       'Full Professor of Clinical Developmental Psychology (32 - 40 hours per week)',\n",
       "       'Senior/Medior Frontend Developer',\n",
       "       'Frontend developer voor snelgroeiend reisplatform',\n",
       "       'Senior Conversion Specialist Completed assignment',\n",
       "       'Technisch Webanalist', 'Architect .NET', 'Database Marketeer',\n",
       "       'Business Analist', 'CRM/E-mail Marketeer Completed assignment',\n",
       "       'Machine Learning Expert gezocht!',\n",
       "       'Junior / Medior C#.NET developer', 'iOS Developer',\n",
       "       'Frontend developer snelgroeiend reizigersplatform!',\n",
       "       'Consultant met een IT passie (BeNeLux)',\n",
       "       'Medior Senior PHP Developer',\n",
       "       'Yacht | IT Traineeship | Data (Science)',\n",
       "       'Amsterdam; Medior(+) Nostradamus / Data Scientist',\n",
       "       'Two Assistant or Associate Professors (tenure track)',\n",
       "       'Data Analist', 'Business Development Manager',\n",
       "       'Digital manager for a Big4 player',\n",
       "       'Onderzoeker/Adviseur Binnenvaart',\n",
       "       'Scientist Late Stage Vaccine Development',\n",
       "       'Senior Research Associate FCB',\n",
       "       'Data Science/Analyse Consultant in jouw regio, Breukelen',\n",
       "       'Informatieanalist / Businessanalist',\n",
       "       'Senior forensisch software-engineer AI en data-science',\n",
       "       'Software Developer (front-end, back-end or full stack)',\n",
       "       'Chemistry Education and Research Technician',\n",
       "       'Data Engineer rol met AWS, Azure en/of Google Cloud, Hilversum',\n",
       "       'Medior/Senior Marketing Intelligence Analist',\n",
       "       'BigData / Datalake Engineer met innovatieve IoT projecten, Eindhoven',\n",
       "       'Python Developer in hartje Amsterdam',\n",
       "       'Machine Learning Developer en innovatieve projecten!, Leiden',\n",
       "       'Computer Vision Engineer bij Start-up, prachtige projecten, Leiden',\n",
       "       'Azure Architect gezocht voor uitdagende projecten, Best',\n",
       "       'netwerk engineer', 'Product Manager (Intensive Care)',\n",
       "       'Full Stack Senior Chatbot Developer',\n",
       "       'Global Head E-commerce - Horizontal Business Units (Senior Technology Leader)',\n",
       "       'Product Consultant', 'Stagiair Frontend Developer',\n",
       "       'Process Development Lead (AD or Director) Viral Vector Therapies - Mainland Europe (Code NL)',\n",
       "       'Assay Development Technician',\n",
       "       'PhD: Motion Monitoring for Neonatal applications',\n",
       "       'Postdoc in Molecular Biology', 'senior engineer Big Data System',\n",
       "       'Senior Ruby on Rails Developer',\n",
       "       'Assistant Scientist - Clinical Immunology (ELISA , VNT)',\n",
       "       'IT Business Trainee',\n",
       "       'Senior Data Scientist bij kleinschalig, ambitieus bureau, Den Bosch',\n",
       "       'Senior Immunology Technician (GLP / GMP)',\n",
       "       'Assistant Scientist - Clinical Immunology',\n",
       "       'Senior Design Engineer - Advanced Algorithm Development and Optimization',\n",
       "       'cloud system engineer', 'Machine Learning specialist!',\n",
       "       'Data Engineer/Scientist/Architect Big Data',\n",
       "       'D a t a Platform Engin e er',\n",
       "       'Business Analist in publieke sector',\n",
       "       'Senior business development marketeer',\n",
       "       'Data Platform Consultant – Randstad',\n",
       "       'Data Scientist in de Randstad gezocht!',\n",
       "       'Tenure-track Assistant Professor Mammalian Synthetic Biology',\n",
       "       'Software Developer Azure .NET',\n",
       "       'Assistant/Associate Professor Artificial Intelligence (Tenure Track) 1.0 FTE',\n",
       "       'MERKLE – PPC Marketing Account Manager', 'Senior UX Designer',\n",
       "       'Solution Consultant SaaS EMEA',\n",
       "       'Technician - Analytical Development', 'Software Tester',\n",
       "       'senior analist cyber security', 'Frontend Developer politie',\n",
       "       'Tenure-track position assistant professor in data driven water-climate risk modelling',\n",
       "       'Chapter Lead C#!', 'Programmatic Data Expert',\n",
       "       'Fullstack Developer', 'Software Engineer (Java/Go)',\n",
       "       'Principal Data Engineer', 'Informatie Analist',\n",
       "       'React Frontend Developer Medior Sr | HTML', 'Database Analist',\n",
       "       'Accountmanager', 'Full-Stack Developer',\n",
       "       'Senior Paid Search Consultant (m/f/d)',\n",
       "       'DevOps Engineer – Randstad', 'Java Developer',\n",
       "       'Senior Manager Customer Analytics',\n",
       "       'Consultant Advanced Analytics',\n",
       "       'Data Scientist - Amsterdam (NL) - IT &amp; Technology',\n",
       "       'Senior Data Engineer – Detachering – Randstad',\n",
       "       'BI Data Engineer',\n",
       "       'Data Engineer met uitstekende voorwaarden! (interne functie), Amersfoort'],\n",
       "      dtype=object)"
      ]
     },
     "execution_count": 218,
     "metadata": {},
     "output_type": "execute_result"
    }
   ],
   "source": [
    "# different job title\n",
    "df.job_title.unique()"
   ]
  },
  {
   "cell_type": "code",
   "execution_count": 261,
   "metadata": {},
   "outputs": [],
   "source": [
    "# keywords associated with seniority category\n",
    "\n",
    "senior_title= ['senior', 'principal', 'staff', 'manager', 'professor','head of', 'phd', 'postdoc', 'lead', 'specialist',\\\n",
    "              'architect']\n",
    "junior_title= ['junior', 'jr', 'associate','assistant' ]\n",
    "\n",
    "# Function to find if a seniority keyword is in the job title\n",
    "def seniority_func(element):\n",
    "    \"\"\" Finds if the seniority keywords are in the job title\"\"\"\n",
    "        \n",
    "    for i in senior_title:\n",
    "        if i in element:\n",
    "            return 'senior'\n",
    "            \n",
    "    for j in junior_title:\n",
    "        if j in element:\n",
    "            return 'junior'"
   ]
  },
  {
   "cell_type": "code",
   "execution_count": 262,
   "metadata": {},
   "outputs": [
    {
     "data": {
      "text/plain": [
       "mid       522\n",
       "senior    288\n",
       "junior     46\n",
       "Name: seniority, dtype: int64"
      ]
     },
     "execution_count": 262,
     "metadata": {},
     "output_type": "execute_result"
    }
   ],
   "source": [
    "# Defining another column that has the seniority level of the roles\n",
    "df['seniority']= df.job_title.apply(lambda x: seniority_func(x.lower()))\n",
    "\n",
    "# Filling the missing values with data scientist title\n",
    "df.seniority.fillna('mid', inplace= True)\n",
    "\n",
    "df.seniority.value_counts()"
   ]
  },
  {
   "cell_type": "markdown",
   "metadata": {},
   "source": [
    "**3.8 Categorizing if job belongs to software engineering or data science**"
   ]
  },
  {
   "cell_type": "code",
   "execution_count": 265,
   "metadata": {},
   "outputs": [],
   "source": [
    "# keywords associated with job role category\n",
    "ds_title = ['data','analyt','analyst', 'analis', 'machine learning', 'ml','ai','deep','nlp', 'computer vision',\\\n",
    "        'bi', 'intelligence', 'iot', 'tableau','Internet of Things', 'etl']\n",
    "software_title = ['developer', 'java', 'c++','computer scientist','c#', 'developer', ' it ', 'software', 'devops', 'ux',\\\n",
    "    'stack','backend', 'web dev', '.net', 'html','netwerk engineer', 'cloud','azure', 'algorithm']\n",
    "\n",
    "# Function to find if the job belongs to data science category       \n",
    "def role_category(element):\n",
    "    \"\"\" Finds if the job title is Data Science related or software related\"\"\"\n",
    "    for i in software_title:\n",
    "        if i in element:\n",
    "            return 'software role'\n",
    "    for j in ds_title:\n",
    "        if j in element:\n",
    "            return 'data science role'"
   ]
  },
  {
   "cell_type": "code",
   "execution_count": 266,
   "metadata": {},
   "outputs": [
    {
     "data": {
      "text/plain": [
       "data science role    538\n",
       "others               175\n",
       "software role        143\n",
       "Name: role_category, dtype: int64"
      ]
     },
     "execution_count": 266,
     "metadata": {},
     "output_type": "execute_result"
    }
   ],
   "source": [
    "# Defining another column that has the seniority level of the roles\n",
    "df['role_category']= df.job_title.apply(lambda x: role_category(x.lower()))\n",
    "\n",
    "# Filling the missing values with data scientist title\n",
    "df.role_category.fillna('others', inplace= True)\n",
    "\n",
    "df.role_category.value_counts()"
   ]
  },
  {
   "cell_type": "code",
   "execution_count": 270,
   "metadata": {},
   "outputs": [
    {
     "data": {
      "text/plain": [
       "array(['Disease Monitoring Scientist',\n",
       "       'Junior Scientist Vector Development',\n",
       "       'Scientist, Infectious Diseases', 'Scientist',\n",
       "       'Junior scientist structural dynamics | Delft',\n",
       "       'Scientist Formulation Process Development',\n",
       "       'Assistant scientist COVID-19 Vaccine production',\n",
       "       'R&amp;D ENGINEER AND SCIENTIST NL',\n",
       "       'EXPERIMENTAL PHYSICIST / DEVELOPMENT ENGINEER',\n",
       "       'Content Marketeer'], dtype=object)"
      ]
     },
     "execution_count": 270,
     "metadata": {},
     "output_type": "execute_result"
    }
   ],
   "source": [
    "# Exploring what other category has\n",
    "df.query('role_category==\"others\"').job_title.unique()[:10]"
   ]
  },
  {
   "cell_type": "code",
   "execution_count": 291,
   "metadata": {},
   "outputs": [],
   "source": [
    "# Storing the cleaned df to the local hard drive for backup\n",
    "df.to_csv(r'C:\\Users\\srini\\Projects\\LinkedIn\\Indeed_cleaned.csv', index= False)"
   ]
  },
  {
   "cell_type": "markdown",
   "metadata": {},
   "source": [
    "So most of the other category have the keywords scientist and hence they came in our Indeed query."
   ]
  },
  {
   "cell_type": "markdown",
   "metadata": {},
   "source": [
    "## 4. Exploratory Data Analysis"
   ]
  },
  {
   "cell_type": "code",
   "execution_count": 279,
   "metadata": {},
   "outputs": [
    {
     "data": {
      "text/html": [
       "<div>\n",
       "<style scoped>\n",
       "    .dataframe tbody tr th:only-of-type {\n",
       "        vertical-align: middle;\n",
       "    }\n",
       "\n",
       "    .dataframe tbody tr th {\n",
       "        vertical-align: top;\n",
       "    }\n",
       "\n",
       "    .dataframe thead th {\n",
       "        text-align: right;\n",
       "    }\n",
       "</style>\n",
       "<table border=\"1\" class=\"dataframe\">\n",
       "  <thead>\n",
       "    <tr style=\"text-align: right;\">\n",
       "      <th></th>\n",
       "      <th>job_title</th>\n",
       "      <th>company_name</th>\n",
       "      <th>location</th>\n",
       "      <th>job_date</th>\n",
       "      <th>company_rating</th>\n",
       "      <th>industry</th>\n",
       "      <th>hq</th>\n",
       "      <th>employee_num</th>\n",
       "      <th>revenue</th>\n",
       "      <th>posting_date</th>\n",
       "      <th>seniority</th>\n",
       "      <th>role_category</th>\n",
       "    </tr>\n",
       "  </thead>\n",
       "  <tbody>\n",
       "    <tr>\n",
       "      <td>0</td>\n",
       "      <td>Senior Data Scientist</td>\n",
       "      <td>ABN AMRO Bank</td>\n",
       "      <td>Amsterdam</td>\n",
       "      <td>0</td>\n",
       "      <td>4.1</td>\n",
       "      <td>Banks and Financial Services</td>\n",
       "      <td>Netherlands</td>\n",
       "      <td>10,000+</td>\n",
       "      <td>more than $10B (USD)</td>\n",
       "      <td>2020-06-04</td>\n",
       "      <td>senior</td>\n",
       "      <td>data science role</td>\n",
       "    </tr>\n",
       "    <tr>\n",
       "      <td>1</td>\n",
       "      <td>Enterprise Data Scientist</td>\n",
       "      <td>Philip Morris International</td>\n",
       "      <td>Nederland</td>\n",
       "      <td>0</td>\n",
       "      <td>4.3</td>\n",
       "      <td>Consumer Goods and Services</td>\n",
       "      <td>Switzerland</td>\n",
       "      <td>10,000+</td>\n",
       "      <td>more than $10B (USD)</td>\n",
       "      <td>2020-06-04</td>\n",
       "      <td>mid</td>\n",
       "      <td>data science role</td>\n",
       "    </tr>\n",
       "    <tr>\n",
       "      <td>2</td>\n",
       "      <td>DATA SCIENTIST BIOINFORMATICS</td>\n",
       "      <td>TMC</td>\n",
       "      <td>Amsterdam</td>\n",
       "      <td>Meer dan 30 dagen geleden</td>\n",
       "      <td>3.5</td>\n",
       "      <td>Human Resources and Staffing</td>\n",
       "      <td>Netherlands</td>\n",
       "      <td>NaN</td>\n",
       "      <td>None</td>\n",
       "      <td>2020-05-05</td>\n",
       "      <td>mid</td>\n",
       "      <td>data science role</td>\n",
       "    </tr>\n",
       "  </tbody>\n",
       "</table>\n",
       "</div>"
      ],
      "text/plain": [
       "                       job_title                 company_name   location  \\\n",
       "0          Senior Data Scientist                ABN AMRO Bank  Amsterdam   \n",
       "1      Enterprise Data Scientist  Philip Morris International  Nederland   \n",
       "2  DATA SCIENTIST BIOINFORMATICS                          TMC  Amsterdam   \n",
       "\n",
       "                    job_date  company_rating                      industry  \\\n",
       "0                          0             4.1  Banks and Financial Services   \n",
       "1                          0             4.3   Consumer Goods and Services   \n",
       "2  Meer dan 30 dagen geleden             3.5  Human Resources and Staffing   \n",
       "\n",
       "            hq employee_num               revenue posting_date seniority  \\\n",
       "0  Netherlands      10,000+  more than $10B (USD)   2020-06-04    senior   \n",
       "1  Switzerland      10,000+  more than $10B (USD)   2020-06-04       mid   \n",
       "2  Netherlands          NaN                  None   2020-05-05       mid   \n",
       "\n",
       "       role_category  \n",
       "0  data science role  \n",
       "1  data science role  \n",
       "2  data science role  "
      ]
     },
     "execution_count": 279,
     "metadata": {},
     "output_type": "execute_result"
    }
   ],
   "source": [
    "df.head(3)"
   ]
  },
  {
   "cell_type": "code",
   "execution_count": 304,
   "metadata": {},
   "outputs": [
    {
     "data": {
      "image/png": "[encoded data removed]",
      "text/plain": [
       "<Figure size 576x432 with 1 Axes>"
      ]
     },
     "metadata": {
      "needs_background": "light"
     },
     "output_type": "display_data"
    }
   ],
   "source": [
    "# Finding which industry hires maximum data scientists\n",
    "s= df.query('role_category==\"data science role\"').industry.value_counts()\n",
    "s /= s.sum()\n",
    "plt.figure(figsize=(8,6))\n",
    "sns.barplot(x=s.head(10), y= s.head(10).index, color= 'tab:blue')\n",
    "plt.title('Demand for data scientists in different industries')\n",
    "plt.xlabel('% of job openings')\n",
    "plt.ylabel('Industry')\n",
    "plt.show()"
   ]
  },
  {
   "cell_type": "code",
   "execution_count": 299,
   "metadata": {},
   "outputs": [
    {
     "data": {
      "image/png": "[encoded data removed]",
      "text/plain": [
       "<Figure size 576x432 with 1 Axes>"
      ]
     },
     "metadata": {
      "needs_background": "light"
     },
     "output_type": "display_data"
    }
   ],
   "source": [
    "# Finding which industry hires maximum data scientists\n",
    "s= (df.query('role_category==\"data science role\"').revenue.value_counts())\n",
    "s /= s.sum()\n",
    "plt.figure(figsize=(8,6))\n",
    "sns.barplot(x=s, y= s.index, color= 'tab:blue')\n",
    "plt.title('Demand for data scientists for different sized companies')\n",
    "plt.xlabel('% of job openings')\n",
    "plt.ylabel('Company revenue')\n",
    "plt.show()"
   ]
  },
  {
   "cell_type": "code",
   "execution_count": 301,
   "metadata": {},
   "outputs": [
    {
     "data": {
      "image/png": "[encoded data removed]",
      "text/plain": [
       "<Figure size 576x432 with 1 Axes>"
      ]
     },
     "metadata": {
      "needs_background": "light"
     },
     "output_type": "display_data"
    }
   ],
   "source": [
    "# Finding which industry hires maximum data scientists\n",
    "s= df.query('role_category==\"data science role\"').employee_num.value_counts()\n",
    "s /= s.sum()\n",
    "plt.figure(figsize=(8,6))\n",
    "sns.barplot(x=s, y= s.index, color= 'tab:blue')\n",
    "plt.title('Demand for data scientists for different sized companies')\n",
    "plt.xlabel('% of job openings')\n",
    "plt.ylabel('Company employee number')\n",
    "plt.show()"
   ]
  },
  {
   "cell_type": "code",
   "execution_count": 309,
   "metadata": {},
   "outputs": [
    {
     "data": {
      "text/plain": [
       "posting_date\n",
       "2020-05-06     3\n",
       "2020-05-07     2\n",
       "2020-05-08     1\n",
       "2020-05-09     5\n",
       "2020-05-10    12\n",
       "2020-05-12     7\n",
       "2020-05-13     6\n",
       "2020-05-14    15\n",
       "2020-05-15     2\n",
       "2020-05-16     6\n",
       "2020-05-17     3\n",
       "2020-05-19     1\n",
       "2020-05-20    17\n",
       "2020-05-21     6\n",
       "2020-05-22     1\n",
       "2020-05-24     1\n",
       "2020-05-26     3\n",
       "2020-05-27    10\n",
       "2020-05-28    20\n",
       "2020-05-29    16\n",
       "2020-05-30    15\n",
       "2020-05-31     2\n",
       "2020-06-01     2\n",
       "2020-06-02     5\n",
       "2020-06-03     2\n",
       "2020-06-04    20\n",
       "Name: job_title, dtype: int64"
      ]
     },
     "execution_count": 309,
     "metadata": {},
     "output_type": "execute_result"
    }
   ],
   "source": [
    "df.query('role_category==\"data science role\" & posting_date>\"2020-05-05\"').groupby(by='posting_date').count()['job_title']"
   ]
  },
  {
   "cell_type": "code",
   "execution_count": null,
   "metadata": {},
   "outputs": [],
   "source": []
  }
 ],
 "metadata": {
  "kernelspec": {
   "display_name": "Python 3",
   "language": "python",
   "name": "python3"
  },
  "language_info": {
   "codemirror_mode": {
    "name": "ipython",
    "version": 3
   },
   "file_extension": ".py",
   "mimetype": "text/x-python",
   "name": "python",
   "nbconvert_exporter": "python",
   "pygments_lexer": "ipython3",
   "version": "3.7.4"
  }
 },
 "nbformat": 4,
 "nbformat_minor": 2
}
